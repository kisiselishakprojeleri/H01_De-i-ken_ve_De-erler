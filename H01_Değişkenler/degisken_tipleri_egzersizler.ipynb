{
 "cells": [
  {
   "cell_type": "markdown",
   "metadata": {},
   "source": [
    "# soru 1\n",
    "1. adında float bir değer tanımlayın bunu bir değişkene atayın değikeni yazdırın ve sonra değişkenin tipini yazdırın."
   ]
  },
  {
   "cell_type": "code",
   "execution_count": 4,
   "metadata": {},
   "outputs": [
    {
     "name": "stdout",
     "output_type": "stream",
     "text": [
      "1\n",
      "<class 'int'>\n"
     ]
    }
   ],
   "source": [
    "float_deger = 1.\n",
    "integer_deger = int(float_deger)\n",
    "print(integer_deger)\n",
    "print(type(integer_deger))"
   ]
  },
  {
   "cell_type": "code",
   "execution_count": null,
   "metadata": {},
   "outputs": [],
   "source": [
    "tc_kimlik_no = 6784782824 \n",
    "ev_fiyati = 120000\n",
    "cocuk_sayisi = 3.5\n"
   ]
  },
  {
   "cell_type": "code",
   "execution_count": 36,
   "metadata": {},
   "outputs": [
    {
     "name": "stdout",
     "output_type": "stream",
     "text": [
      "Öğrenci Evinin Maliyeti: 120000.0\n"
     ]
    }
   ],
   "source": [
    "yatak_odasi_sayisi:int=1\n",
    "banyo_sayisi:int =1\n",
    "bodrum_varmi:bool = False\n",
    "evin_temel_fiyati:float = 80000.0\n",
    "ogrenci_evi_maliyeti = evin_temel_fiyati + (30000.0*yatak_odasi_sayisi) + (10000.0*banyo_sayisi) + (40000.0*bodrum_varmi)\n",
    "print(f\"Öğrenci Evinin Maliyeti: {ogrenci_evi_maliyeti}\")"
   ]
  },
  {
   "cell_type": "code",
   "execution_count": null,
   "metadata": {},
   "outputs": [],
   "source": []
  }
 ],
 "metadata": {
  "kernelspec": {
   "display_name": "sanal_ortam",
   "language": "python",
   "name": "python3"
  },
  "language_info": {
   "codemirror_mode": {
    "name": "ipython",
    "version": 3
   },
   "file_extension": ".py",
   "mimetype": "text/x-python",
   "name": "python",
   "nbconvert_exporter": "python",
   "pygments_lexer": "ipython3",
   "version": "3.12.1"
  }
 },
 "nbformat": 4,
 "nbformat_minor": 2
}
