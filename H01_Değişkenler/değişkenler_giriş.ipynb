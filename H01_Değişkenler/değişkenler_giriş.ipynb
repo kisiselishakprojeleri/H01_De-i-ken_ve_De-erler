{
 "cells": [
  {
   "cell_type": "code",
   "execution_count": 14,
   "metadata": {},
   "outputs": [
    {
     "name": "stdout",
     "output_type": "stream",
     "text": [
      " 4 yıldaki saniye sayısı = 345600\n"
     ]
    }
   ],
   "source": [
    "# 4 yılda kaç saniye olduğunu gösteren program\n",
    "yil_sayisi =4\n",
    "yil_gün_sayisi=365 \n",
    "gun_saat_sayisi=24\n",
    "saat_dakika_sayisi=60\n",
    "dakika_saniye_sayısı =60\n",
    "sonuc = yil_sayisi*gun_saat_sayisi*saat_dakika_sayisi*dakika_saniye_sayısı\n",
    "print (f\" 4 yıldaki saniye sayısı = {sonuc}\")\n"
   ]
  },
  {
   "cell_type": "code",
   "execution_count": 1,
   "metadata": {},
   "outputs": [
    {
     "name": "stdout",
     "output_type": "stream",
     "text": [
      "Dairenin alanı = 78.53981633974483\n"
     ]
    }
   ],
   "source": [
    "pi = 3.141592653589793\n",
    "r = 5\n",
    "daire_alani = pi * r**2\n",
    "print (f\"Dairenin alanı = {daire_alani}\")"
   ]
  },
  {
   "cell_type": "code",
   "execution_count": 1,
   "metadata": {},
   "outputs": [
    {
     "name": "stdout",
     "output_type": "stream",
     "text": [
      "5259600.0\n"
     ]
    }
   ],
   "source": [
    "print (4*365.25*60*60)"
   ]
  },
  {
   "cell_type": "code",
   "execution_count": 4,
   "metadata": {},
   "outputs": [
    {
     "ename": "NameError",
     "evalue": "name 'karenin_alani' is not defined",
     "output_type": "error",
     "traceback": [
      "\u001b[0;31m---------------------------------------------------------------------------\u001b[0m",
      "\u001b[0;31mNameError\u001b[0m                                 Traceback (most recent call last)",
      "Cell \u001b[0;32mIn[4], line 3\u001b[0m\n\u001b[1;32m      1\u001b[0m kenar \u001b[38;5;241m=\u001b[39m\u001b[38;5;241m10\u001b[39m \n\u001b[1;32m      2\u001b[0m karenin_alanı \u001b[38;5;241m=\u001b[39m kenar\u001b[38;5;241m*\u001b[39m\u001b[38;5;241m*\u001b[39m\u001b[38;5;241m2\u001b[39m\n\u001b[0;32m----> 3\u001b[0m \u001b[38;5;28mprint\u001b[39m (\u001b[38;5;124mf\u001b[39m\u001b[38;5;124m\"\u001b[39m\u001b[38;5;124mKarenin Alani = \u001b[39m\u001b[38;5;132;01m{\u001b[39;00m\u001b[43mkarenin_alani\u001b[49m\u001b[38;5;132;01m}\u001b[39;00m\u001b[38;5;124m\"\u001b[39m)\n",
      "\u001b[0;31mNameError\u001b[0m: name 'karenin_alani' is not defined"
     ]
    }
   ],
   "source": [
    "kenar =10 \n",
    "karenin_alanı = kenar**2\n",
    "print (f\"Karenin Alani = {karenin_alani}\")\n"
   ]
  },
  {
   "cell_type": "code",
   "execution_count": null,
   "metadata": {},
   "outputs": [],
   "source": [
    "print ('Hello World') "
   ]
  },
  {
   "cell_type": "code",
   "execution_count": null,
   "metadata": {},
   "outputs": [],
   "source": [
    "\"Hello World\""
   ]
  }
 ],
 "metadata": {
  "kernelspec": {
   "display_name": "sanal_ortam",
   "language": "python",
   "name": "python3"
  },
  "language_info": {
   "codemirror_mode": {
    "name": "ipython",
    "version": 3
   },
   "file_extension": ".py",
   "mimetype": "text/x-python",
   "name": "python",
   "nbconvert_exporter": "python",
   "pygments_lexer": "ipython3",
   "version": "3.12.1"
  }
 },
 "nbformat": 4,
 "nbformat_minor": 2
}
