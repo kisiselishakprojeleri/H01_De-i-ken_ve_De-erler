{
 "cells": [
  {
   "cell_type": "code",
   "execution_count": 1,
   "metadata": {},
   "outputs": [
    {
     "ename": "SyntaxError",
     "evalue": "unterminated string literal (detected at line 1) (361977888.py, line 1)",
     "output_type": "error",
     "traceback": [
      "\u001b[0;36m  Cell \u001b[0;32mIn[1], line 1\u001b[0;36m\u001b[0m\n\u001b[0;31m    Pythonda oluşturduuğumuz her değişkenin bir tipi vardır.Bunlar sırasıyla integer,float, string, boolean olarak 4'e ayrılır.Sırasıyla hepsini inceleyelim.\u001b[0m\n\u001b[0m                                                                                                                    ^\u001b[0m\n\u001b[0;31mSyntaxError\u001b[0m\u001b[0;31m:\u001b[0m unterminated string literal (detected at line 1)\n"
     ]
    }
   ],
   "source": [
    "Pythonda oluşturduuğumuz her değişkenin bir tipi vardır.Bunlar sırasıyla integer,float, string, boolean olarak 4'e ayrılır.Sırasıyla hepsini inceleyelim.\n",
    "# Integer (Tamsayılar)\n",
    "\n",
    "\n",
    "\n"
   ]
  },
  {
   "cell_type": "code",
   "execution_count": 2,
   "metadata": {},
   "outputs": [
    {
     "name": "stdout",
     "output_type": "stream",
     "text": [
      "5.0\n",
      "<class 'float'>\n"
     ]
    }
   ],
   "source": [
    "bolme=10/2\n",
    "print(bolme)\n",
    "print(type(bolme))\n"
   ]
  },
  {
   "cell_type": "code",
   "execution_count": 10,
   "metadata": {},
   "outputs": [],
   "source": [
    "buyuk_sayi = 5 \n",
    "kucuk_sayi = 2\n",
    "ortanca_sayi = 3"
   ]
  },
  {
   "cell_type": "code",
   "execution_count": 11,
   "metadata": {},
   "outputs": [
    {
     "name": "stdout",
     "output_type": "stream",
     "text": [
      "Karşılaştırmanın Sonucu: True\n"
     ]
    }
   ],
   "source": [
    "karsilastirma1 = buyuk_sayi > kucuk_sayi\n",
    "print (f\"Karşılaştırmanın Sonucu: {karsilastirma1}\")"
   ]
  },
  {
   "cell_type": "code",
   "execution_count": 18,
   "metadata": {},
   "outputs": [
    {
     "ename": "SyntaxError",
     "evalue": "unterminated string literal (detected at line 1) (68583272.py, line 1)",
     "output_type": "error",
     "traceback": [
      "\u001b[0;36m  Cell \u001b[0;32mIn[18], line 1\u001b[0;36m\u001b[0m\n\u001b[0;31m    string1 = \"benim adım ishak.\u001b[0m\n\u001b[0m              ^\u001b[0m\n\u001b[0;31mSyntaxError\u001b[0m\u001b[0;31m:\u001b[0m unterminated string literal (detected at line 1)\n"
     ]
    }
   ],
   "source": [
    "string1 = \"benim adım ishak.\n",
    "string2 = \"18/04/2004\"\n",
    "string3 =\"73755834568\n",
    "string4 = \"TC6784782824\"\n",
    "string5 = \"ishak132.proqgmail.com\"\n"
   ]
  },
  {
   "cell_type": "markdown",
   "metadata": {},
   "source": [
    "# Tip Dönüşümleri"
   ]
  },
  {
   "cell_type": "markdown",
   "metadata": {},
   "source": [
    "# İntegerden Floata ya da Float'dan Integer'a Dönüşümler Rahatlıkla Yapılır."
   ]
  },
  {
   "cell_type": "code",
   "execution_count": 2,
   "metadata": {},
   "outputs": [],
   "source": [
    "# Cloud masraf hesaplama Programı\n",
    "N1 = 0.049617\n",
    "N2 = 0.059655\n",
    "E2 = 0.344655\n",
    "A2 = 0.634263\n",
    "G2 = 0.343464\n",
    "\n",
    "haftalik_calisma_saatim = 40\n",
    "ayda_hafta = 4"
   ]
  },
  {
   "cell_type": "code",
   "execution_count": null,
   "metadata": {},
   "outputs": [],
   "source": []
  }
 ],
 "metadata": {
  "kernelspec": {
   "display_name": "sanal_ortam",
   "language": "python",
   "name": "python3"
  },
  "language_info": {
   "codemirror_mode": {
    "name": "ipython",
    "version": 3
   },
   "file_extension": ".py",
   "mimetype": "text/x-python",
   "name": "python",
   "nbconvert_exporter": "python",
   "pygments_lexer": "ipython3",
   "version": "3.12.1"
  }
 },
 "nbformat": 4,
 "nbformat_minor": 2
}
